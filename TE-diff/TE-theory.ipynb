{
 "cells": [
  {
   "cell_type": "markdown",
   "metadata": {},
   "source": [
    "# COVID-19 Biohackathon Gene Expression Group\n",
    "\n",
    "**Jakke Neiro**\n",
    "\n",
    "**jakke.neiro@zoo.ox.ac.uk**\n",
    "\n",
    "This notebook documents my notes on differential expression analysis of transposable elements. The notebook tries to summarize the relevant theory and available software used to tackle this problem."
   ]
  },
  {
   "cell_type": "markdown",
   "metadata": {},
   "source": [
    "# 1. Introduction"
   ]
  },
  {
   "cell_type": "markdown",
   "metadata": {},
   "source": [
    "# 2. TEtools"
   ]
  },
  {
   "cell_type": "markdown",
   "metadata": {},
   "source": [
    "## 2.2 TEtools algorithm"
   ]
  },
  {
   "cell_type": "markdown",
   "metadata": {},
   "source": [
    "The workflow consists of two scripts: TEcount and TEdiff. TEcount computes a count table file based on NGS data files, a fasta file containing TE copy sequences and a rosette file. \n",
    "\n",
    "Rosette file structure:\n",
    "* 2L|(3071416..3071503,3071708..3071841)|DNA/P|PROTOP   PROTOP\n",
    "* 2L|(5363113..5363154,5363819..5363952)|DNA/P|PROTOP   PROTOP\n",
    "Column 1: sequence name Column 2: TE family. Variable associated to these TE copy numbers on which we want to compute the counts. \n",
    "\n",
    "Many columns possible. TEcount will group together the count of reads mapping on TE copies according to the column number defined. \n",
    "\n",
    "The NGS can be two types: fastq file or sam alignment file.\n",
    "\n",
    "Fastq files: for poaired.end data you must add the same number of paired fastq files. When using RNA-seq data "
   ]
  },
  {
   "cell_type": "markdown",
   "metadata": {},
   "source": [
    "# 3. TEtranscripts"
   ]
  },
  {
   "cell_type": "markdown",
   "metadata": {},
   "source": [
    "## 3.1 Analysis of RNA-Seq Data Using TEtranscripts"
   ]
  },
  {
   "cell_type": "markdown",
   "metadata": {},
   "source": [
    "### 3.1.1 Abstract\n",
    "* TEtranscripts inlcudes TE-derived reads in RNA-seq differential expression analysis. \n",
    "* TEtranscripts is desgined to assign both uniquely and ambiguously mapped reads to all possible gene and TE-derived transcritps to statistically infer the gene/TE abundances. \n",
    "* Nearly half of the human genome is derived from TE sequencew, vast majority retrotransposons.\n",
    "\n",
    "### 3.1.2 Introduction\n",
    "* TEs short DNA sequences (less than 10kb). \n",
    "* Class-I elements = retroelements = retrotransposons, reverse transcriptase enzyme to copy an RNA transcript. \n",
    "* Class-II elements, DNA transpososns, cut and pase or excision and reinsertion of the DNA sequnce. \n",
    "* TEs in the same families share high levels of sequence similarity. Repbase and RepeatMasker. \n",
    "* TE-derived transcripts have been shown to accumulate in various conditions such as cancer and neurodegenerative diseases.\n",
    "\n",
    "* RNA-seq: genome-wide detection. TEtranscripts analyzes both gene- and TE-associated reads. Estimates both gene and TE transcript abundances and conducts differential expression analysis on the resultant gene/TE abundance count table. TEtranscripts focuses on the last two steps (abundance estimation and differential expression).\n",
    "\n",
    "### 3.1.3 Methods\n",
    "Input: alignment files in either SAM or BAM format, two annotation files in GTF format for genes and TEs. Unique-reads and multi-reads. The utlization of multi-reads for TE quentification is critical, as a read originating from a TE could align to multiple instances in the genome. "
   ]
  }
 ],
 "metadata": {
  "kernelspec": {
   "display_name": "Python 3",
   "language": "python",
   "name": "python3"
  },
  "language_info": {
   "codemirror_mode": {
    "name": "ipython",
    "version": 3
   },
   "file_extension": ".py",
   "mimetype": "text/x-python",
   "name": "python",
   "nbconvert_exporter": "python",
   "pygments_lexer": "ipython3",
   "version": "3.7.4"
  }
 },
 "nbformat": 4,
 "nbformat_minor": 2
}
